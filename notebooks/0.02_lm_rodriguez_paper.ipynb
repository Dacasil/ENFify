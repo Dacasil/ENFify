{
 "cells": [
  {
   "cell_type": "markdown",
   "metadata": {},
   "source": [
    "Implementation of [Rodriguez](https://ieeexplore.ieee.org/document/5475260) (sec. III)"
   ]
  },
  {
   "cell_type": "code",
   "execution_count": 1,
   "metadata": {},
   "outputs": [],
   "source": [
    "# imports & constants\n",
    "import numpy as np\n",
    "import matplotlib.pyplot as plt\n",
    "from math import floor, ceil\n",
    "\n",
    "SEED = 0\n",
    "np.random.seed(SEED)"
   ]
  },
  {
   "cell_type": "code",
   "execution_count": 2,
   "metadata": {},
   "outputs": [],
   "source": [
    "# generate single tone\n",
    "amplitude = 1\n",
    "nominal_frequency = 50\n",
    "phi = np.pi/4\n",
    "f_s = 44_100 # 1_000\n",
    "duration = 3\n",
    "\n",
    "n = np.arange(f_s * duration)\n",
    "s_tone = amplitude*np.sin(2 * np.pi * nominal_frequency / f_s * n + np.radians(phi))\n",
    "del n"
   ]
  },
  {
   "cell_type": "code",
   "execution_count": 3,
   "metadata": {},
   "outputs": [
    {
     "name": "stdout",
     "output_type": "stream",
     "text": [
      "f_DFT: 50.00\n",
      "phi_DFT: -1.56\n"
     ]
    }
   ],
   "source": [
    "# A. Phase Estimation Using the DFT\n",
    "M = len(s_tone)\n",
    "hann_window = np.hanning(M)\n",
    "x = s_tone * hann_window\n",
    "N_DFT = 2*M\n",
    "X = np.fft.fft(x, n=N_DFT)\n",
    "# freqs = np.fft.fftfreq(NDFT, 1/f_s)\n",
    "# f_DFT = freqs[k_peak]\n",
    "\n",
    "k_peak = np.argmax(np.abs(X[:N_DFT//2]))\n",
    "f_DFT = k_peak*f_s/N_DFT\n",
    "print(f\"f_DFT: {f_DFT:.2f}\")\n",
    "\n",
    "phi_DFT = np.angle(X[k_peak]) # % (2*np.pi)\n",
    "print(f\"phi_DFT: {phi_DFT:.2f}\")"
   ]
  },
  {
   "cell_type": "code",
   "execution_count": 4,
   "metadata": {},
   "outputs": [
    {
     "name": "stdout",
     "output_type": "stream",
     "text": [
      "k_peak: 300\n",
      "f_DFT1: 50.00\n",
      "k_DFT1: 300.0011338450338\n"
     ]
    }
   ],
   "source": [
    "# B. The Novel Phase Estimation Method\n",
    "# 1\n",
    "s_dash = f_s * np.diff(s_tone, prepend=0)\n",
    "\n",
    "# 2\n",
    "M = len(s_tone)\n",
    "hann_window = np.hanning(M)\n",
    "x = s_tone * hann_window\n",
    "x_dash = s_dash * hann_window\n",
    "\n",
    "# 3\n",
    "N_DFT = 2*M+1\n",
    "X = np.fft.fft(x, n=N_DFT)\n",
    "X_dash = np.fft.fft(x_dash, n=N_DFT)\n",
    "\n",
    "# 4\n",
    "abs_X = np.abs(X)\n",
    "abs_X_dash = np.abs(X_dash)\n",
    "k_peak = np.argmax(abs_X)\n",
    "print(f\"k_peak: {k_peak}\")\n",
    "\n",
    "# 5\n",
    "F_k_peak = (np.pi * k_peak) / (N_DFT * np.sin(np.pi * k_peak / N_DFT))\n",
    "\n",
    "DFT_0_peak = abs_X[k_peak]\n",
    "DFT_1_peak = F_k_peak * abs_X_dash[k_peak]\n",
    "\n",
    "# 6\n",
    "f_DFT1 = 1 / (2 * np.pi) * DFT_1_peak / DFT_0_peak\n",
    "k_DFT1 = N_DFT * f_DFT1 / f_s\n",
    "print(f\"f_DFT1: {f_DFT1:.2f}\")\n",
    "print(f\"k_DFT1: {k_DFT1}\")\n",
    "\n",
    "# validating\n",
    "if not -.5 <= k_DFT1 - k_peak < .5:\n",
    "    raise ValueError(\"invalid result\")"
   ]
  },
  {
   "cell_type": "code",
   "execution_count": 5,
   "metadata": {},
   "outputs": [
    {
     "name": "stdout",
     "output_type": "stream",
     "text": [
      "phi_DFT1: -1.56\n"
     ]
    }
   ],
   "source": [
    "# continuing with the method\n",
    "\n",
    "omega_0 = 2*np.pi*f_DFT1/f_s\n",
    "k_low = floor(k_DFT1)\n",
    "k_high = ceil(k_DFT1)\n",
    "theta_low = np.angle(X_dash[k_low])\n",
    "theta_high = np.angle(X_dash[k_high])\n",
    "\n",
    "theta = (k_DFT1 - k_low) * (theta_high - theta_low) / (k_high - k_low) + theta_low\n",
    "# theta = np.interp(k_DFT1, [k_low, k_high], [theta_low, theta_high])\n",
    "\n",
    "numerator = np.tan(theta) * (1 - np.cos(omega_0)) + np.sin(omega_0)\n",
    "denominator = 1 - np.cos(omega_0) - np.tan(theta) * np.sin(omega_0)\n",
    "phi_DFT1 = np.arctan(numerator / denominator)\n",
    "# phi_DFT1 = np.arctan2(numerator, denominator)\n",
    "\n",
    "# choosing phi_DFT1 closer to phi_DFT\n",
    "_sym_intvl = lambda x: (x + np.pi) % (2*np.pi) - np.pi\n",
    "_phi_DFT1 = _sym_intvl(phi_DFT1 + np.pi)\n",
    "if np.abs(_phi_DFT1 - phi_DFT) < np.abs(phi_DFT1- phi_DFT):\n",
    "    phi_DFT1 = _phi_DFT1\n",
    "    \n",
    "print(f\"phi_DFT1: {phi_DFT1:.2f}\")"
   ]
  },
  {
   "cell_type": "code",
   "execution_count": null,
   "metadata": {},
   "outputs": [],
   "source": []
  }
 ],
 "metadata": {
  "kernelspec": {
   "display_name": "enfify",
   "language": "python",
   "name": "python3"
  },
  "language_info": {
   "codemirror_mode": {
    "name": "ipython",
    "version": 3
   },
   "file_extension": ".py",
   "mimetype": "text/x-python",
   "name": "python",
   "nbconvert_exporter": "python",
   "pygments_lexer": "ipython3",
   "version": "3.10.14"
  }
 },
 "nbformat": 4,
 "nbformat_minor": 2
}
