{
 "cells": [
  {
   "cell_type": "markdown",
   "metadata": {},
   "source": [
    "Implementation of [Rodriguez](https://ieeexplore.ieee.org/document/5475260) (sec. IV)"
   ]
  },
  {
   "cell_type": "markdown",
   "metadata": {},
   "source": [
    "- von classic nach precise phase estimation\n",
    "- von synthetic enf nach synthetic tone (also mit downsampling und filtering)\n",
    "- von synthetic nach real data\n",
    "- von uncutted nach cutted"
   ]
  },
  {
   "cell_type": "code",
   "execution_count": 196,
   "metadata": {},
   "outputs": [
    {
     "name": "stdout",
     "output_type": "stream",
     "text": [
      "The autoreload extension is already loaded. To reload it, use:\n",
      "  %reload_ext autoreload\n"
     ]
    }
   ],
   "source": [
    "%load_ext autoreload\n",
    "%autoreload 2"
   ]
  },
  {
   "cell_type": "code",
   "execution_count": 197,
   "metadata": {},
   "outputs": [],
   "source": [
    "# imports & constants\n",
    "import numpy as np\n",
    "import scipy.signal as signal\n",
    "import matplotlib.pyplot as plt\n",
    "from scipy.io.wavfile import read\n",
    "from rodriguez import precise_phase_analysis, classic_phase_analysis\n",
    "from math import ceil"
   ]
  },
  {
   "cell_type": "code",
   "execution_count": 198,
   "metadata": {},
   "outputs": [],
   "source": [
    "# IV A. Visual Method\n",
    "nominal_enf = 50  # Nominal ENF"
   ]
  },
  {
   "cell_type": "code",
   "execution_count": 199,
   "metadata": {},
   "outputs": [],
   "source": [
    "# # (A) Import Audio\n",
    "# path = \"../data/raw/ENF-WHU-Dataset/enf_real_world_recordings/001.wav\"\n",
    "\n",
    "# # Laden der WAV-Datei\n",
    "# f_s, s_raw = read(path)\n",
    "# M = len(s_raw)\n",
    "# print(f\"f_s = {f_s} Hz\")\n",
    "# print(f\"{M:_} samples\")\n",
    "# print(f\"{M/f_s:.2f} seconds\")\n",
    "# print()\n",
    "\n",
    "# # truncating to 60 seconds\n",
    "# M = 60*f_s\n",
    "# s_raw = s_raw[:M]\n",
    "# print(f\"{M:_} samples\")\n",
    "# print(f\"{M/f_s:.2f} seconds\")"
   ]
  },
  {
   "cell_type": "code",
   "execution_count": 200,
   "metadata": {},
   "outputs": [
    {
     "name": "stdout",
     "output_type": "stream",
     "text": [
      "480_000 samples\n",
      "60.00 seconds\n"
     ]
    }
   ],
   "source": [
    "# generate single tone\n",
    "f_tone = 50.005\n",
    "phi_0 = 0\n",
    "amplitude = 1\n",
    "\n",
    "f_s = 8_000\n",
    "M = 60*f_s\n",
    "\n",
    "n = np.arange(M)\n",
    "s_raw = amplitude * np.cos(2 * np.pi * f_tone / f_s * n + phi_0)\n",
    "del n, M\n",
    "\n",
    "print(f\"{len(s_raw):_} samples\")\n",
    "print(f\"{len(s_raw)/f_s:.2f} seconds\")"
   ]
  },
  {
   "cell_type": "code",
   "execution_count": 201,
   "metadata": {},
   "outputs": [],
   "source": [
    "# insert cut of ceil 1.25 nominal cycles\n",
    "cutlen = ceil(1.25 * f_s / nominal_enf)\n",
    "\n",
    "i = len(s_raw) // 2\n",
    "mask = np.ones_like(s_raw, dtype=bool)\n",
    "mask[i : i + cutlen] = False\n",
    "s_raw = s_raw[mask]\n",
    "del mask, i"
   ]
  },
  {
   "cell_type": "code",
   "execution_count": 202,
   "metadata": {},
   "outputs": [
    {
     "name": "stdout",
     "output_type": "stream",
     "text": [
      "59_975 samples\n",
      "59.98 seconds\n"
     ]
    }
   ],
   "source": [
    "# Step 1: Down-sample the audio signal\n",
    "f_ds = 1_000\n",
    "\n",
    "if f_s % f_ds == 0:\n",
    "    downsample_factor = f_s // f_ds\n",
    "    s_ds = signal.decimate(s_raw, downsample_factor)\n",
    "else:\n",
    "    raise NotImplementedError(\"Not implemented yet\")\n",
    "    # s_ds = signal.resample_poly(audio_signal, up=3, down=20)\n",
    "\n",
    "print(f\"{len(s_ds):_} samples\")\n",
    "print(f\"{len(s_ds)/f_ds:.2f} seconds\")"
   ]
  },
  {
   "cell_type": "code",
   "execution_count": 203,
   "metadata": {},
   "outputs": [],
   "source": [
    "# make skip filtering possible\n",
    "s_enf = s_ds"
   ]
  },
  {
   "cell_type": "code",
   "execution_count": 204,
   "metadata": {},
   "outputs": [],
   "source": [
    "# # plot the signal\n",
    "# plt.plot(s_ds)\n",
    "# plt.xlabel(\"Samples\")\n",
    "# plt.ylabel(\"Amplitude\")\n",
    "# plt.grid()\n",
    "# plt.show()\n",
    "\n",
    "# # plot the signal fft\n",
    "# plt.figure()\n",
    "# plt.magnitude_spectrum(s_ds, Fs=f_ds, scale=\"dB\")\n",
    "# plt.xlabel(\"Frequency [Hz]\")\n",
    "# plt.ylabel(\"Magnitude [dB]\")\n",
    "# plt.grid()\n",
    "# plt.show()"
   ]
  },
  {
   "cell_type": "code",
   "execution_count": 205,
   "metadata": {},
   "outputs": [],
   "source": [
    "# Step 2: Design and apply FIR bandpass filter\n",
    "center_freq = nominal_enf\n",
    "passband_width = 1.4  # .6\n",
    "num_taps = 10_000\n",
    "band = [center_freq - passband_width / 2, center_freq + passband_width / 2]\n",
    "filter_taps = signal.firwin(num_taps, band, pass_zero=False, fs=f_ds) # f_s -> f_ds\n",
    "s_enf = signal.filtfilt(filter_taps, [1.0], s_ds)\n",
    "\n",
    "# delete samples at start and end\n",
    "s_enf[-num_taps // 2 :] = np.nan\n",
    "s_enf[: num_taps // 2] = np.nan"
   ]
  },
  {
   "cell_type": "code",
   "execution_count": 206,
   "metadata": {},
   "outputs": [],
   "source": [
    "# # plot the signal\n",
    "# plt.plot(s_enf)\n",
    "# plt.xlabel(\"Samples\")\n",
    "# plt.ylabel(\"Amplitude\")\n",
    "# plt.grid()\n",
    "# plt.show()\n",
    "\n",
    "# # plot the signal fft\n",
    "# plt.figure()\n",
    "# plt.magnitude_spectrum(s_enf, Fs=f_ds, scale=\"dB\")\n",
    "# plt.xlabel(\"Frequency [Hz]\")\n",
    "# plt.ylabel(\"Magnitude [dB]\")\n",
    "# plt.grid()\n",
    "# plt.show()"
   ]
  },
  {
   "cell_type": "code",
   "execution_count": 207,
   "metadata": {},
   "outputs": [
    {
     "name": "stdout",
     "output_type": "stream",
     "text": [
      "Samples per nominal enf cycle: 20\n",
      "Samples per segment: 60\n",
      "Number of blocks: 2_996\n"
     ]
    }
   ],
   "source": [
    "# Step 3: Segment the signal\n",
    "num_cycles = 3\n",
    "\n",
    "step_size = f_ds // nominal_enf # samples per nominal enf cycle\n",
    "print(f\"Samples per nominal enf cycle: {step_size:_}\")\n",
    "print(f\"Samples per segment: {num_cycles*step_size:_}\")\n",
    "\n",
    "num_blocks = len(s_enf) // step_size - (num_cycles - 1)\n",
    "print(f\"Number of blocks: {num_blocks:_}\")\n",
    "\n",
    "segments = [s_enf[i * step_size : (i + num_cycles) * step_size] for i in range(num_blocks)]"
   ]
  },
  {
   "cell_type": "code",
   "execution_count": 208,
   "metadata": {},
   "outputs": [],
   "source": [
    "# plt.plot(segments[0])\n",
    "# plt.show()"
   ]
  },
  {
   "cell_type": "code",
   "execution_count": 209,
   "metadata": {},
   "outputs": [],
   "source": [
    "# Step 4: Estimate phase\n",
    "phases = []\n",
    "for segment in segments:\n",
    "    N_DFT = len(segment)+1\n",
    "    _, phase = classic_phase_analysis(segment, f_ds, N_DFT)\n",
    "    phases.append(phase)"
   ]
  },
  {
   "cell_type": "code",
   "execution_count": 210,
   "metadata": {},
   "outputs": [
    {
     "data": {
      "image/png": "[encoded data removed]",
      "text/plain": [
       "<Figure size 640x480 with 1 Axes>"
      ]
     },
     "metadata": {},
     "output_type": "display_data"
    }
   ],
   "source": [
    "# Step 5: Plot phase values\n",
    "x = np.arange(len(phases)) * step_size\n",
    "plt.plot(x, np.degrees(phases))\n",
    "plt.xlabel(\"Samples\")\n",
    "plt.ylabel(\"Phase (degrees)\")\n",
    "plt.yticks(np.arange(-180, 181, 45))\n",
    "plt.ylim(-180, 180)\n",
    "plt.title(\"Phase vs Time\")\n",
    "plt.grid(True)\n",
    "plt.show()"
   ]
  }
 ],
 "metadata": {
  "kernelspec": {
   "display_name": "enfify",
   "language": "python",
   "name": "python3"
  },
  "language_info": {
   "codemirror_mode": {
    "name": "ipython",
    "version": 3
   },
   "file_extension": ".py",
   "mimetype": "text/x-python",
   "name": "python",
   "nbconvert_exporter": "python",
   "pygments_lexer": "ipython3",
   "version": "3.10.14"
  }
 },
 "nbformat": 4,
 "nbformat_minor": 2
}
