{
 "cells": [
  {
   "cell_type": "code",
   "execution_count": null,
   "metadata": {},
   "outputs": [],
   "source": [
    "%load_ext autoreload\n",
    "%autoreload 2"
   ]
  },
  {
   "cell_type": "code",
   "execution_count": null,
   "metadata": {},
   "outputs": [],
   "source": [
    "import sys\n",
    "\n",
    "sys.path.append('../../enfify')\n",
    "\n",
    "import os\n",
    "from glob import glob\n",
    "from pprint import pprint\n",
    "\n",
    "import matplotlib.pyplot as plt\n",
    "import numpy as np\n",
    "import yaml\n",
    "from analyses import classification_dacasil\n",
    "from feature_processing import get_hilbert_phase\n",
    "from sklearn.metrics import accuracy_score\n",
    "from tqdm import tqdm\n",
    "from utils import read_wavfile"
   ]
  },
  {
   "cell_type": "code",
   "execution_count": null,
   "metadata": {},
   "outputs": [],
   "source": [
    "with open(\"../../enfify/defaults.yml\", \"r\") as f:\n",
    "    config = yaml.safe_load(f)\n",
    "config[\"downsample\"][\"is_enabled\"] = False"
   ]
  },
  {
   "cell_type": "code",
   "execution_count": null,
   "metadata": {},
   "outputs": [],
   "source": [
    "authentic_paths = sorted(glob(\"../../data/raw/synthetic/uncut/train_audio/*.wav\"))\n",
    "tampered_paths = sorted(glob(\"../../data/raw/synthetic/cut/train_cut_audio/*.wav\"))\n",
    "\n",
    "data_paths = authentic_paths + tampered_paths"
   ]
  },
  {
   "cell_type": "code",
   "execution_count": null,
   "metadata": {},
   "outputs": [],
   "source": [
    "results = []\n",
    "labels = []\n",
    "for auth_path, tamp_path in zip((pbar:=tqdm(authentic_paths)), tampered_paths):\n",
    "    for label, path in zip([True, False], [auth_path, tamp_path]):\n",
    "        sig, fs = read_wavfile(path)\n",
    "        x, phase = get_hilbert_phase(sig, fs, config)\n",
    "        results.append(classification_dacasil(phase, x))\n",
    "        labels.append(label)\n",
    "    pbar.set_postfix_str(f\"Accuracy: {accuracy_score(labels, results)*100:.2f} % \")\n",
    "\n",
    "print(f\"Total Accuracy: {accuracy_score(labels, results)}\")\n",
    "\n",
    "# pprint(list(zip(labels, results)))"
   ]
  }
 ],
 "metadata": {
  "kernelspec": {
   "display_name": "enfify",
   "language": "python",
   "name": "python3"
  },
  "language_info": {
   "codemirror_mode": {
    "name": "ipython",
    "version": 3
   },
   "file_extension": ".py",
   "mimetype": "text/x-python",
   "name": "python",
   "nbconvert_exporter": "python",
   "pygments_lexer": "ipython3",
   "version": "3.10.14"
  }
 },
 "nbformat": 4,
 "nbformat_minor": 2
}
