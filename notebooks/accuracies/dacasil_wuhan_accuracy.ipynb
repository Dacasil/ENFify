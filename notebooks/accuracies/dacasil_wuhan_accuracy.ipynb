{
 "cells": [
  {
   "cell_type": "code",
   "execution_count": 1,
   "metadata": {},
   "outputs": [],
   "source": [
    "%load_ext autoreload\n",
    "%autoreload 2"
   ]
  },
  {
   "cell_type": "code",
   "execution_count": 2,
   "metadata": {},
   "outputs": [],
   "source": [
    "import sys\n",
    "\n",
    "sys.path.append(\"../../enfify\")\n",
    "\n",
    "import os\n",
    "from glob import glob\n",
    "from pprint import pprint\n",
    "\n",
    "import matplotlib.pyplot as plt\n",
    "import numpy as np\n",
    "import yaml\n",
    "from analyses import classification_dacasil\n",
    "from feature_processing import get_hilbert_phase\n",
    "from sklearn.metrics import accuracy_score\n",
    "from tqdm import tqdm\n",
    "from utils import read_wavfile"
   ]
  },
  {
   "cell_type": "code",
   "execution_count": 3,
   "metadata": {},
   "outputs": [],
   "source": [
    "with open(\"../../enfify/defaults.yml\", \"r\") as f:\n",
    "    config = yaml.safe_load(f)\n",
    "config[\"downsample\"][\"is_enabled\"] = False"
   ]
  },
  {
   "cell_type": "code",
   "execution_count": 4,
   "metadata": {},
   "outputs": [],
   "source": [
    "authentic_paths = sorted(\n",
    "    glob(\"../../data/interim/ENF-WHU-Dataset/1min_ref/1min_enf_ref_data/*.wav\")\n",
    ")\n",
    "tampered_paths = sorted(\n",
    "    glob(\"../../data/interim/ENF-WHU-Dataset/1min_ref/cut_1min_enf_ref_data/*.wav\")\n",
    ")\n",
    "\n",
    "data_paths = authentic_paths + tampered_paths"
   ]
  },
  {
   "cell_type": "code",
   "execution_count": 5,
   "metadata": {},
   "outputs": [
    {
     "name": "stderr",
     "output_type": "stream",
     "text": [
      "100%|██████████| 130/130 [06:22<00:00,  2.95s/it, Accuracy: 96.92 % ]"
     ]
    },
    {
     "name": "stdout",
     "output_type": "stream",
     "text": [
      "Total Accuracy: 96.92 % \n"
     ]
    },
    {
     "name": "stderr",
     "output_type": "stream",
     "text": [
      "\n"
     ]
    }
   ],
   "source": [
    "results = []\n",
    "labels = []\n",
    "for auth_path, tamp_path in zip((pbar := tqdm(authentic_paths)), tampered_paths):\n",
    "    for label, path in zip([True, False], [auth_path, tamp_path]):\n",
    "        sig, fs = read_wavfile(path)\n",
    "        x, phase = get_hilbert_phase(sig, fs, config)\n",
    "        results.append(classification_dacasil(phase, x))\n",
    "        labels.append(label)\n",
    "    pbar.set_postfix_str(f\"Accuracy: {accuracy_score(labels, results)*100:.2f} % \")\n",
    "\n",
    "print(f\"Total Accuracy: {accuracy_score(labels, results)*100:.2f} % \")"
   ]
  }
 ],
 "metadata": {
  "kernelspec": {
   "display_name": "enfify",
   "language": "python",
   "name": "python3"
  },
  "language_info": {
   "codemirror_mode": {
    "name": "ipython",
    "version": 3
   },
   "file_extension": ".py",
   "mimetype": "text/x-python",
   "name": "python",
   "nbconvert_exporter": "python",
   "pygments_lexer": "ipython3",
   "version": "3.10.14"
  }
 },
 "nbformat": 4,
 "nbformat_minor": 2
}
