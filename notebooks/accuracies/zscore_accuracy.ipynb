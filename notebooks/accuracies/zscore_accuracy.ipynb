{
 "cells": [
  {
   "cell_type": "code",
   "execution_count": 1,
   "metadata": {},
   "outputs": [],
   "source": [
    "%load_ext autoreload\n",
    "%autoreload 2"
   ]
  },
  {
   "cell_type": "code",
   "execution_count": 2,
   "metadata": {},
   "outputs": [],
   "source": [
    "import sys\n",
    "\n",
    "sys.path.append(\"../../enfify\")\n",
    "\n",
    "from glob import glob\n",
    "\n",
    "import yaml\n",
    "from analyses import (classification_rodriguez, eer_feature_threshold,\n",
    "                      feature_zscore)\n",
    "from feature_processing import get_hilbert_phase\n",
    "from sklearn.metrics import accuracy_score\n",
    "from tqdm import tqdm\n",
    "from utils import read_wavfile"
   ]
  },
  {
   "cell_type": "code",
   "execution_count": 3,
   "metadata": {},
   "outputs": [],
   "source": [
    "with open(\"../../enfify/defaults.yml\", \"r\") as f:\n",
    "    config = yaml.safe_load(f)\n",
    "config[\"downsample\"][\"is_enabled\"] = False"
   ]
  },
  {
   "cell_type": "code",
   "execution_count": 4,
   "metadata": {},
   "outputs": [],
   "source": [
    "authentic_paths = sorted(glob(\"../../data/raw/synthetic/uncut/train_audio/*.wav\"))\n",
    "tampered_paths = sorted(glob(\"../../data/raw/synthetic/cut/train_cut_audio/*.wav\"))"
   ]
  },
  {
   "cell_type": "code",
   "execution_count": 5,
   "metadata": {},
   "outputs": [
    {
     "name": "stderr",
     "output_type": "stream",
     "text": [
      "  0%|          | 0/1000 [00:00<?, ?it/s]"
     ]
    },
    {
     "name": "stderr",
     "output_type": "stream",
     "text": [
      "100%|██████████| 1000/1000 [33:58<00:00,  2.04s/it, Accuracy: 86.65 %, gamma: 2.62] \n"
     ]
    }
   ],
   "source": [
    "labels = []\n",
    "features = []\n",
    "\n",
    "_accuracys = []\n",
    "_gammas = []\n",
    "for auth_path, tamp_path in zip((pbar:=tqdm(authentic_paths)), tampered_paths):\n",
    "    for label, path in zip([True, False], [auth_path, tamp_path]):\n",
    "        sig, fs = read_wavfile(path)\n",
    "        x, phase = get_hilbert_phase(sig, fs, config)\n",
    "\n",
    "        feature = feature_zscore(phase)\n",
    "        features.append(feature)\n",
    "        labels.append(label)\n",
    "\n",
    "    gamma = eer_feature_threshold(labels, features)\n",
    "    results = [feature < gamma for feature in features]\n",
    "    accuracy = accuracy_score(labels, results)\n",
    "    pbar.set_postfix_str(f\"Accuracy: {accuracy*100:.2f} %, gamma: {gamma:.2f}\")\n",
    "    _accuracys.append(accuracy)\n",
    "    _gammas.append(gamma)"
   ]
  }
 ],
 "metadata": {
  "kernelspec": {
   "display_name": "enfify",
   "language": "python",
   "name": "python3"
  },
  "language_info": {
   "codemirror_mode": {
    "name": "ipython",
    "version": 3
   },
   "file_extension": ".py",
   "mimetype": "text/x-python",
   "name": "python",
   "nbconvert_exporter": "python",
   "pygments_lexer": "ipython3",
   "version": "3.10.14"
  }
 },
 "nbformat": 4,
 "nbformat_minor": 2
}
